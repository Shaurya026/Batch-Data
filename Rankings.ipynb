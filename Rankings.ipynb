{
 "cells": [
  {
   "cell_type": "code",
   "execution_count": 155,
   "metadata": {},
   "outputs": [],
   "source": [
    "import PyPDF3 as X\n",
    "import pandas as pd"
   ]
  },
  {
   "cell_type": "markdown",
   "metadata": {},
   "source": [
    "# Calculating for Sem - 5 for all EP students :  \n",
    "## Common Students (with 22 credits)"
   ]
  },
  {
   "cell_type": "code",
   "execution_count": 156,
   "metadata": {},
   "outputs": [],
   "source": [
    "object = open('O20_BTECH_1184.pdf','rb')\n",
    "reader = X.PdfFileReader(object)\n",
    "pages = reader.numPages"
   ]
  },
  {
   "cell_type": "code",
   "execution_count": 157,
   "metadata": {},
   "outputs": [],
   "source": [
    "head = dict()\n",
    "for i in range(pages):\n",
    "    page1 = reader.getPage(i)\n",
    "    str = page1.extractText()\n",
    "    str1 = \" \" \n",
    "    word = \"\"\n",
    "    flag = False\n",
    "    for i in str:\n",
    "        tmp = i \n",
    "        if word == \"Papers Failed\" and flag == False :\n",
    "            str1 = \" \"\n",
    "            flag = True\n",
    "        if word == \"Digitally\":\n",
    "            break\n",
    "        if i == '\\n':\n",
    "            word = \"\"\n",
    "        if i == '\\n' and tmp == i:\n",
    "            if str1[-1] == '\\n':\n",
    "                continue\n",
    "            str1 += i\n",
    "            continue\n",
    "        str1 += i\n",
    "        word += str1[-1]\n",
    "    #print(str1)\n",
    "    str1 = list(str1.split('\\n'))\n",
    "    #print(str1)\n",
    "    ctr = 0\n",
    "    for i in str1:\n",
    "        if i.startswith(\"2K18/EP/\"):\n",
    "            #print(str)\n",
    "            head[str1[ctr-2]] = head.get(str1[ctr-2],list()) #append(str1[ctr-1]) for 1st SEM\n",
    "            head[str1[ctr-2]].append(i)                      #append Roll Number\n",
    "            if str1[ctr+8].startswith('Page'):\n",
    "                head[str1[ctr-2]].append(str1[ctr+7])\n",
    "                continue\n",
    "            if float(str1[ctr+8]) > 10: # case arises dues to inclusion of MOOCS and adding 7th course\n",
    "                head[str1[ctr-2]].append(str1[ctr+9]) #head[\"Sem-1\"].append(str1[ctr+8])\n",
    "            else:\n",
    "                head[str1[ctr-2]].append(str1[ctr+8])      \n",
    "        ctr += 1"
   ]
  },
  {
   "cell_type": "code",
   "execution_count": 158,
   "metadata": {},
   "outputs": [
    {
     "data": {
      "text/plain": [
       "81"
      ]
     },
     "execution_count": 158,
     "metadata": {},
     "output_type": "execute_result"
    }
   ],
   "source": [
    "len(head)"
   ]
  },
  {
   "cell_type": "markdown",
   "metadata": {},
   "source": [
    "## Other Track Students (with 18 credits)"
   ]
  },
  {
   "cell_type": "code",
   "execution_count": 202,
   "metadata": {},
   "outputs": [],
   "source": [
    "object = open('O20_BTECH_V_1193.pdf','rb')\n",
    "reader = X.PdfFileReader(object)\n",
    "pages = reader.numPages\n",
    "\n",
    "# taking name of students we need to take only 18 credits for\n",
    "exceptions = []"
   ]
  },
  {
   "cell_type": "code",
   "execution_count": 203,
   "metadata": {},
   "outputs": [],
   "source": [
    "#head = dict()\n",
    "for i in range(pages):\n",
    "    page1 = reader.getPage(i)\n",
    "    str = page1.extractText()\n",
    "    str1 = \" \" \n",
    "    word = \"\"\n",
    "    flag = False\n",
    "    for i in str:\n",
    "        tmp = i \n",
    "        if word == \"Papers Failed\" and flag == False :\n",
    "            str1 = \" \"\n",
    "            flag = True\n",
    "        if word == \"Digitally\":\n",
    "            break\n",
    "        if i == '\\n':\n",
    "            word = \"\"\n",
    "        if i == '\\n' and tmp == i:\n",
    "            if str1[-1] == '\\n':\n",
    "                continue\n",
    "            str1 += i\n",
    "            continue\n",
    "        str1 += i\n",
    "        word += str1[-1]\n",
    "    #print(str1)\n",
    "    str1 = list(str1.split('\\n'))\n",
    "    #print(str1)\n",
    "    ctr = 0\n",
    "    for i in str1:\n",
    "        if i.startswith(\"2K18/EP/\"):\n",
    "            #print(str1)\n",
    "            exceptions.append(str1[ctr-2])\n",
    "            head[str1[ctr-2]] = head.get(str1[ctr-2],list()) #append(str1[ctr-1]) for 1st SEM\n",
    "            head[str1[ctr-2]].append(i)                      #append Roll Number\n",
    "            if str1[ctr+7].startswith('Sr.No'):\n",
    "                head[str1[ctr-2]].append(str1[ctr+6])\n",
    "                continue\n",
    "            if float(str1[ctr+7]) > 10: # case arises dues to inclusion of MOOCS and adding 7th course\n",
    "                head[str1[ctr-2]].append(str1[ctr+8]) #head[\"Sem-1\"].append(str1[ctr+8])\n",
    "            else:\n",
    "                head[str1[ctr-2]].append(str1[ctr+7])      \n",
    "        ctr += 1"
   ]
  },
  {
   "cell_type": "code",
   "execution_count": 204,
   "metadata": {},
   "outputs": [
    {
     "data": {
      "text/plain": [
       "['SAVINAY KUMAR',\n",
       " 'GAURAV MANGAL',\n",
       " 'VIKRANT KUMAR PATEL',\n",
       " 'ROHIT CHAURASIYA',\n",
       " 'AMAN TYAGI',\n",
       " 'SHOBHIT RANJAN',\n",
       " 'AYUSH KOVIND']"
      ]
     },
     "execution_count": 204,
     "metadata": {},
     "output_type": "execute_result"
    }
   ],
   "source": [
    "exceptions"
   ]
  },
  {
   "cell_type": "markdown",
   "metadata": {},
   "source": [
    "# Calculating for Sem - 4 for all EP students :"
   ]
  },
  {
   "cell_type": "code",
   "execution_count": 162,
   "metadata": {},
   "outputs": [],
   "source": [
    "object = open('E20_BTECH_IV_1106.pdf','rb')\n",
    "reader = X.PdfFileReader(object)\n",
    "pages = reader.numPages"
   ]
  },
  {
   "cell_type": "code",
   "execution_count": 163,
   "metadata": {},
   "outputs": [],
   "source": [
    "#head = dict()\n",
    "for i in range(pages):\n",
    "    page1 = reader.getPage(i)\n",
    "    str = page1.extractText()\n",
    "    str1 = \" \" \n",
    "    word = \"\"\n",
    "    flag = False\n",
    "    for i in str:\n",
    "        tmp = i \n",
    "        if word == \"Papers Failed\" and flag == False :\n",
    "            str1 = \" \"\n",
    "            flag = True\n",
    "        if word == \"Digitally\":\n",
    "            break\n",
    "        if i == '\\n':\n",
    "            word = \"\"\n",
    "        if i == '\\n' and tmp == i:\n",
    "            if str1[-1] == '\\n':\n",
    "                continue\n",
    "            str1 += i\n",
    "            continue\n",
    "        str1 += i\n",
    "        word += str1[-1]\n",
    "    #print(str1)\n",
    "    str1 = list(str1.split('\\n'))\n",
    "    #print(str1)\n",
    "    ctr = 0\n",
    "    for i in str1:\n",
    "        if i.startswith(\"2K18/EP/\"):\n",
    "#             if str1[ctr-2] == 'ASHISH RANJAN': # lateral entry\n",
    "#                 head['ASHEESH RANJAN'] = head.get('ASHEESH RANJAN',list())\n",
    "#                 head['ASHEESH RANJAN'].append(i)\n",
    "#                 head['ASHEESH RANJAN'].append(str1[ctr+8])\n",
    "#                 ctr += 1\n",
    "#                 continue\n",
    "            head[str1[ctr-2]] = head.get(str1[ctr-2],list()) #append(str1[ctr-1]) for 1st SEM\n",
    "            #head[str1[ctr-2]].append(i)          #head[\"Roll No.\"].append(i)\n",
    "            if str1[ctr-2] == \"ASHWAJIT SINGH\":\n",
    "                    head[str1[ctr-2]].append(str1[ctr+6])\n",
    "                    ctr += 1\n",
    "                    continue\n",
    "            head[str1[ctr-2]].append(str1[ctr+8])      #head[\"Sem-1\"].append(str1[ctr+8])\n",
    "        ctr += 1"
   ]
  },
  {
   "cell_type": "code",
   "execution_count": 164,
   "metadata": {},
   "outputs": [],
   "source": [
    "# # for k,v in head.items():\n",
    "# #     print(k,\":\",end=\"\")\n",
    "# #     print(len(v))\n",
    "# # print(head)\n",
    "# print(len(head))"
   ]
  },
  {
   "cell_type": "code",
   "execution_count": 165,
   "metadata": {},
   "outputs": [
    {
     "name": "stdout",
     "output_type": "stream",
     "text": [
      "ANOMALIES TO BE SORTED MANUALLY SINCE THEIR RESULTS WERE DECLARED LATER:\n",
      "PIYUSH BHATIA\n",
      "SARVAGYA KUMAR\n",
      "SHAURYA PARASHAR\n"
     ]
    }
   ],
   "source": [
    "print('ANOMALIES TO BE SORTED MANUALLY SINCE THEIR RESULTS WERE DECLARED LATER:')\n",
    "for i,j in head.items():\n",
    "    if len(j) == 2:\n",
    "        print(i)"
   ]
  },
  {
   "cell_type": "code",
   "execution_count": 166,
   "metadata": {},
   "outputs": [],
   "source": [
    "# found in RESULT FILE 1119\n",
    "head['SHAURYA PARASHAR'].append('7.27')\n",
    "head['SARVAGYA KUMAR'].append('7.18')\n",
    "head['PIYUSH BHATIA'].append('5.27')"
   ]
  },
  {
   "cell_type": "markdown",
   "metadata": {},
   "source": [
    "# Calculating for Sem - 3 for all EP students : \n",
    "Since Roll numbers start with 2K18/EP for batch which is designated in 3rd Sem so we start in descending order to calculate"
   ]
  },
  {
   "cell_type": "code",
   "execution_count": 167,
   "metadata": {},
   "outputs": [],
   "source": [
    "object = open('O19_BTECH_3_1014.pdf','rb')\n",
    "reader = X.PdfFileReader(object)\n",
    "pages = reader.numPages"
   ]
  },
  {
   "cell_type": "code",
   "execution_count": 168,
   "metadata": {},
   "outputs": [],
   "source": [
    "#head = dict()\n",
    "for i in range(pages):\n",
    "    page1 = reader.getPage(i)\n",
    "    str = page1.extractText()\n",
    "    str1 = \" \" \n",
    "    word = \"\"\n",
    "    flag = False\n",
    "    for i in str:\n",
    "        tmp = i \n",
    "        if word == \"Papers Failed\" and flag == False :\n",
    "            str1 = \" \"\n",
    "            flag = True\n",
    "        if word == \"Digitally\":\n",
    "            break\n",
    "        if i == '\\n':\n",
    "            word = \"\"\n",
    "        if i == '\\n' and tmp == i:\n",
    "            if str1[-1] == '\\n':\n",
    "                continue\n",
    "            str1 += i\n",
    "            continue\n",
    "        str1 += i\n",
    "        word += str1[-1]\n",
    "    #print(str1)\n",
    "    str1 = list(str1.split('\\n'))\n",
    "    #print(str1)\n",
    "    ctr = 0\n",
    "    for i in str1:\n",
    "        if i.startswith(\"2K18/EP/\"):\n",
    "            head[str1[ctr-2]] = head.get(str1[ctr-2],list()) #append(str1[ctr-1]) for 1st SEM\n",
    "            # if result was not present in SEM-4\n",
    "            if len(head[str1[ctr-2]]) == 0:\n",
    "                #head[str1[ctr-2]].append(i)          #head[\"Roll No.\"].append(i)\n",
    "                head[str1[ctr-2]].append(str1[ctr+8])      #head[\"Sem-1\"].append(str1[ctr+8])\n",
    "            if str1[ctr-2] == \"ASHWAJIT SINGH\":\n",
    "                    head[str1[ctr-2]].append(str1[ctr+7])\n",
    "                    ctr += 1\n",
    "                    continue\n",
    "            head[str1[ctr-2]].append(str1[ctr+8])      #head[\"Sem-1\"].append(str1[ctr+8])\n",
    "            \n",
    "        ctr += 1\n",
    "# for k,v in head.items():\n",
    "#     print(k,\":\",end=\"\")\n",
    "#     print(len(v))"
   ]
  },
  {
   "cell_type": "code",
   "execution_count": 169,
   "metadata": {},
   "outputs": [
    {
     "name": "stdout",
     "output_type": "stream",
     "text": [
      "ANOMALIES TO BE SORTED MANUALLY SINCE THEIR RESULTS WERE DECLARED LATER:\n",
      "ASHISH RANJAN\n",
      "ASHEESH RANJAN\n",
      "ADITYA AMBARIK\n"
     ]
    }
   ],
   "source": [
    "print('ANOMALIES TO BE SORTED MANUALLY SINCE THEIR RESULTS WERE DECLARED LATER:')\n",
    "for i,j in head.items():\n",
    "    if len(j) <= 3:\n",
    "        print(i)"
   ]
  },
  {
   "cell_type": "code",
   "execution_count": 170,
   "metadata": {},
   "outputs": [],
   "source": [
    "head['ASHISH RANJAN'].append(head['ASHEESH RANJAN'][0])"
   ]
  },
  {
   "cell_type": "code",
   "execution_count": 174,
   "metadata": {},
   "outputs": [],
   "source": [
    "head['ASHEESH RANJAN'] = head['ASHISH RANJAN']\n",
    "del(head['ASHISH RANJAN'])"
   ]
  },
  {
   "cell_type": "code",
   "execution_count": 175,
   "metadata": {},
   "outputs": [
    {
     "data": {
      "text/plain": [
       "89"
      ]
     },
     "execution_count": 175,
     "metadata": {},
     "output_type": "execute_result"
    }
   ],
   "source": [
    "len(head)"
   ]
  },
  {
   "cell_type": "markdown",
   "metadata": {},
   "source": [
    "# Calculating for Sem - 2 : "
   ]
  },
  {
   "cell_type": "code",
   "execution_count": 176,
   "metadata": {},
   "outputs": [],
   "source": [
    "object = open('E19_BTECH_B_2_929.pdf','rb')\n",
    "reader = X.PdfFileReader(object)\n",
    "pages = reader.numPages"
   ]
  },
  {
   "cell_type": "code",
   "execution_count": 177,
   "metadata": {},
   "outputs": [],
   "source": [
    "for i in range(pages):\n",
    "    page1 = reader.getPage(i)\n",
    "    str = page1.extractText()\n",
    "    str1 = \" \" \n",
    "    word = \"\"\n",
    "    flag = False\n",
    "    for i in str:\n",
    "        tmp = i \n",
    "        if word == \"Papers Failed\" and flag == False :\n",
    "            str1 = \" \"\n",
    "            flag = True\n",
    "        if word == \"Digitally\":\n",
    "            break\n",
    "        if i == '\\n':\n",
    "            word = \"\"\n",
    "        if i == '\\n' and tmp == i:\n",
    "            if str1[-1] == '\\n':\n",
    "                continue\n",
    "            str1 += i\n",
    "            continue\n",
    "        str1 += i\n",
    "        word += str1[-1]\n",
    "    #print(str1)\n",
    "    str1 = list(str1.split('\\n'))\n",
    "    #print(str1)\n",
    "    ctr = 0\n",
    "    for i in str1:\n",
    "        if i.startswith(\"2K18/B8\") and (str1[ctr-2] in head.keys()) :\n",
    "            head[str1[ctr-2]].append(str1[ctr+8])      #head[\"Sem-1\"].append(str1[ctr+8])\n",
    "        ctr += 1"
   ]
  },
  {
   "cell_type": "code",
   "execution_count": 179,
   "metadata": {},
   "outputs": [],
   "source": [
    "# works fine till here !!"
   ]
  },
  {
   "cell_type": "code",
   "execution_count": 180,
   "metadata": {},
   "outputs": [],
   "source": [
    "object = open('E19_BTECH_A_2_929.pdf','rb')\n",
    "reader = X.PdfFileReader(object)\n",
    "pages = reader.numPages"
   ]
  },
  {
   "cell_type": "code",
   "execution_count": 181,
   "metadata": {},
   "outputs": [],
   "source": [
    "for i in range(pages):\n",
    "    page1 = reader.getPage(i)\n",
    "    str = page1.extractText()\n",
    "    str1 = \" \" \n",
    "    word = \"\"\n",
    "    flag = False\n",
    "    for i in str:\n",
    "        tmp = i \n",
    "        if word == \"Papers Failed\" and flag == False :\n",
    "            str1 = \" \"\n",
    "            flag = True\n",
    "        if word == \"Digitally\":\n",
    "            break\n",
    "        if i == '\\n':\n",
    "            word = \"\"\n",
    "        if i == '\\n' and tmp == i:\n",
    "            if str1[-1] == '\\n':\n",
    "                continue\n",
    "            str1 += i\n",
    "            continue\n",
    "        str1 += i\n",
    "        word += str1[-1]\n",
    "    #print(str1)\n",
    "    str1 = list(str1.split('\\n'))\n",
    "    #print(str1)\n",
    "    ctr = 0\n",
    "    for i in str1:\n",
    "        if i.startswith(\"2K18/A8/\") and (str1[ctr-2] in head.keys()) and (len(head[str1[ctr-2]]) != 5) :\n",
    "            head[str1[ctr-2]].append(str1[ctr+8])      #head[\"Sem-1\"].append(str1[ctr+8])\n",
    "        ctr += 1\n",
    "    ctr = 0\n",
    "    for i in str1:\n",
    "        if i.startswith(\"2K18/\") and (str1[ctr-2] in head.keys()) and (len(head[str1[ctr-2]]) == 4):\n",
    "            head[str1[ctr-2]].append(str1[ctr+8])      #head[\"Sem-1\"].append(str1[ctr+8])\n",
    "        ctr += 1"
   ]
  },
  {
   "cell_type": "code",
   "execution_count": 183,
   "metadata": {},
   "outputs": [],
   "source": [
    "object = open('E19_BTECH_B_2_929.pdf','rb')\n",
    "reader = X.PdfFileReader(object)\n",
    "pages = reader.numPages\n",
    "for i in range(pages):\n",
    "    page1 = reader.getPage(i)\n",
    "    str = page1.extractText()\n",
    "    str1 = \" \" \n",
    "    word = \"\"\n",
    "    flag = False\n",
    "    for i in str:\n",
    "        tmp = i \n",
    "        if word == \"Papers Failed\" and flag == False :\n",
    "            str1 = \" \"\n",
    "            flag = True\n",
    "        if word == \"Digitally\":\n",
    "            break\n",
    "        if i == '\\n':\n",
    "            word = \"\"\n",
    "        if i == '\\n' and tmp == i:\n",
    "            if str1[-1] == '\\n':\n",
    "                continue\n",
    "            str1 += i\n",
    "            continue\n",
    "        str1 += i\n",
    "        word += str1[-1]\n",
    "    #print(str1)\n",
    "    str1 = list(str1.split('\\n'))\n",
    "    #print(str1)\n",
    "    ctr = 0\n",
    "    for i in str1:\n",
    "        if i.startswith(\"2K18/\") and (str1[ctr-2] in head.keys()) and (len(head[str1[ctr-2]]) == 4):\n",
    "            head[str1[ctr-2]].append(str1[ctr+8])      #head[\"Sem-1\"].append(str1[ctr+8])\n",
    "        ctr += 1\n",
    "head[\"AKSHAT TIWARI\"].append(7.8)\n",
    "head[\"MANASVI SINGWAL\"].append(7.0)\n",
    "# for k,v in head.items() :\n",
    "#     print(k,\":\",end=\"\")\n",
    "#     print(len(v))"
   ]
  },
  {
   "cell_type": "markdown",
   "metadata": {},
   "source": [
    "# Calculating for Sem - 1 :"
   ]
  },
  {
   "cell_type": "code",
   "execution_count": 188,
   "metadata": {},
   "outputs": [],
   "source": [
    "object = open('O18_BTECH.pdf','rb')\n",
    "reader = X.PdfFileReader(object)\n",
    "pages = reader.numPages"
   ]
  },
  {
   "cell_type": "code",
   "execution_count": 189,
   "metadata": {},
   "outputs": [],
   "source": [
    "for i in range(pages):\n",
    "    page1 = reader.getPage(i)\n",
    "    str = page1.extractText()\n",
    "    str1 = \" \" \n",
    "    word = \"\"\n",
    "    flag = False\n",
    "    for i in str:\n",
    "        tmp = i \n",
    "        if word == \"Papers Failed\" and flag == False :\n",
    "            str1 = \" \"\n",
    "            flag = True\n",
    "        if word == \"Digitally\":\n",
    "            break\n",
    "        if i == '\\n':\n",
    "            word = \"\"\n",
    "        if i == '\\n' and tmp == i:\n",
    "            if str1[-1] == '\\n':\n",
    "                continue\n",
    "            str1 += i\n",
    "            continue\n",
    "        str1 += i\n",
    "        word += str1[-1]\n",
    "    str1 = list(str1.split('\\n'))\n",
    "    #print(str1)\n",
    "    ctr = 0\n",
    "    for i in str1:\n",
    "        if i.startswith(\"2018/A8\") and (str1[ctr-1] in head.keys()) and (len(head[str1[ctr-1]]) == 5 ) :\n",
    "            head[str1[ctr-1]].append(str1[ctr+8])      #head[\"Sem-1\"].append(str1[ctr+8])\n",
    "        ctr += 1\n",
    "    ctr = 0\n",
    "    for i in str1:\n",
    "        if i.startswith(\"2018/B8\") and (str1[ctr-1] in head.keys()) and (len(head[str1[ctr-1]]) == 5 ):\n",
    "            head[str1[ctr-1]].append(str1[ctr+8])      #head[\"Sem-1\"].append(str1[ctr+8])\n",
    "        ctr += 1\n",
    "    ctr = 0\n",
    "    for i in str1:\n",
    "        if i.startswith(\"2018/\") and (str1[ctr-1] in head.keys()) and (len(head[str1[ctr-1]]) == 5 ):\n",
    "            head[str1[ctr-1]].append(str1[ctr+8])      #head[\"Sem-1\"].append(str1[ctr+8])\n",
    "        ctr += 1\n",
    "#     for i in str1:\n",
    "#         if i.startswith(\"2018/A8\") and (str1[ctr-1] in head.keys()) :\n",
    "#             head[str1[ctr-1]].append(str1[ctr+8])      #head[\"Sem-1\"].append(str1[ctr+8])\n",
    "#         ctr += 1\n",
    "#         ctr = 0\n",
    "#     for i in str1:\n",
    "#         if i.startswith(\"2018/\") and (str1[ctr-1] in head.keys()) and (len(str1[ctr-1]) != 4 ) :\n",
    "#             head[str1[ctr-1]].append(str1[ctr+8])      #head[\"Sem-1\"].append(str1[ctr+8])\n",
    "#         ctr += 1"
   ]
  },
  {
   "cell_type": "code",
   "execution_count": 195,
   "metadata": {},
   "outputs": [
    {
     "name": "stdout",
     "output_type": "stream",
     "text": [
      "ADITYA AMBARIK\n"
     ]
    }
   ],
   "source": [
    "for i,j in head.items():\n",
    "    if len(j) <= 5:\n",
    "        print(i)"
   ]
  },
  {
   "cell_type": "markdown",
   "metadata": {},
   "source": [
    "since aditya ambarik has no data after 4th sem his name is removed!!"
   ]
  },
  {
   "cell_type": "code",
   "execution_count": 196,
   "metadata": {},
   "outputs": [],
   "source": [
    "del(head['ADITYA AMBARIK'])"
   ]
  },
  {
   "cell_type": "code",
   "execution_count": 197,
   "metadata": {},
   "outputs": [
    {
     "data": {
      "text/plain": [
       "88"
      ]
     },
     "execution_count": 197,
     "metadata": {},
     "output_type": "execute_result"
    }
   ],
   "source": [
    "len(head)"
   ]
  },
  {
   "cell_type": "code",
   "execution_count": 198,
   "metadata": {},
   "outputs": [],
   "source": [
    "#print(head)\n",
    "header = {\"Name\": [], \"Roll No.\": [], \"Sem-5\":[], \"Sem-4\":[], \"Sem-3\":[], \"Sem-2\":[], \"Sem-1\":[], \"Aggregate\":[]}\n",
    "for k,v in head.items():\n",
    "    header[\"Name\"].append(k)\n",
    "    header[\"Roll No.\"].append(v[0])\n",
    "    if len(v) < 6 :\n",
    "        if len(v) == 5:\n",
    "            header[\"Sem-5\"].append(float(v[1]))\n",
    "            header[\"Sem-4\"].append(float(v[2]))\n",
    "            header[\"Sem-3\"].append(float(v[3]))\n",
    "            header[\"Sem-2\"].append(float(v[4]))\n",
    "            header[\"Sem-1\"].append(6.0)\n",
    "            continue\n",
    "    else :\n",
    "        header[\"Sem-5\"].append(float(v[1]))\n",
    "        header[\"Sem-4\"].append(float(v[2]))\n",
    "        header[\"Sem-3\"].append(float(v[3]))\n",
    "        header[\"Sem-2\"].append(float(v[4]))\n",
    "        if v[4] == \"MA101\":\n",
    "            header[\"Sem-1\"].append(6.0)\n",
    "            continue\n",
    "        header[\"Sem-1\"].append(float(v[5]))\n",
    "        "
   ]
  },
  {
   "cell_type": "code",
   "execution_count": 209,
   "metadata": {},
   "outputs": [
    {
     "data": {
      "text/plain": [
       "'DIVYAM NIGAM'"
      ]
     },
     "execution_count": 209,
     "metadata": {},
     "output_type": "execute_result"
    }
   ],
   "source": [
    "len(header['Name'])\n",
    "header['Name'][0]"
   ]
  },
  {
   "cell_type": "code",
   "execution_count": 210,
   "metadata": {},
   "outputs": [],
   "source": [
    "# print(len(header[\"Name\"]))\n",
    "# print(len(header[\"Sem-2\"]))\n",
    "# print(len(header[\"Sem-1\"]))\n",
    "# print(len(header[\"Roll No.\"]))\n",
    "# print(len(header[\"Sem-3\"]))\n",
    "#print(header)\n",
    "x = 0\n",
    "for i in range(88) :\n",
    "    if header['Name'][i] in exceptions:\n",
    "        x = (header[\"Sem-1\"][i] * 20 + header[\"Sem-2\"][i] * 20 + header[\"Sem-3\"][i] * 22 + header[\"Sem-4\"][i]*22 + header['Sem-5'][i]*18) / 102\n",
    "    else:\n",
    "        x = (header[\"Sem-1\"][i] * 20 + header[\"Sem-2\"][i] * 20 + header[\"Sem-3\"][i] * 22 + header[\"Sem-4\"][i]*22 + header['Sem-5'][i]*22) / 106\n",
    "    header['Aggregate'].append(x) "
   ]
  },
  {
   "cell_type": "code",
   "execution_count": 211,
   "metadata": {},
   "outputs": [
    {
     "name": "stdout",
     "output_type": "stream",
     "text": [
      "                  Name     Roll No.  Sem-5  Sem-4  Sem-3  Sem-2  Sem-1  \\\n",
      "84          AMAN TYAGI  2K18/EP/010   9.44   9.64  10.00   9.00    9.3   \n",
      "63        SHIKHAR DASH  2K18/EP/080   9.32   9.45   9.55   9.50    9.2   \n",
      "20  PRIYANSH BHATNAGAR  2K18/EP/058   9.55   9.45   9.82   8.60    9.2   \n",
      "17         TARUN ARORA  2K18/EP/085   9.27   9.27   9.73   9.00    8.8   \n",
      "18       SHAURYA GUPTA  2K18/EP/078   9.55   9.82   9.64   8.10    8.8   \n",
      "..                 ...          ...    ...    ...    ...    ...    ...   \n",
      "60          AMAR KUMAR  2K18/EP/011   8.68   5.82   2.91   1.20    4.1   \n",
      "0         DIVYAM NIGAM  2K18/EP/024   5.82   5.73   3.18   1.90    4.2   \n",
      "15      ASHWAJIT SINGH  2K18/EP/018   8.73   5.57   3.11   0.70    1.4   \n",
      "36            AKSHANSH  2K18/EP/007   8.36   5.64   2.82   1.63    1.1   \n",
      "34           AMIT SETH  2K18/EP/012   9.07   2.73   0.82   1.60    3.8   \n",
      "\n",
      "    Aggregate  \n",
      "84   9.490196  \n",
      "63   9.406038  \n",
      "20   9.340000  \n",
      "17   9.225849  \n",
      "18   9.209623  \n",
      "..        ...  \n",
      "60   4.613396  \n",
      "0    4.208113  \n",
      "15   4.009623  \n",
      "36   4.006038  \n",
      "34   3.638113  \n",
      "\n",
      "[88 rows x 8 columns]\n"
     ]
    }
   ],
   "source": [
    "answer = pd.DataFrame(header)\n",
    "#answer[\"Aggregate\"] = answer.apply( (answer['Sem-1'] * 20 + answer['Sem-2'] * 20 + answer['Sem-3'] * 22) / 62 , axis1) \n",
    "answer1 = answer.sort_values(by=['Aggregate'], ascending=False)\n",
    "print(answer1)"
   ]
  },
  {
   "cell_type": "code",
   "execution_count": 212,
   "metadata": {},
   "outputs": [
    {
     "data": {
      "text/html": [
       "<div>\n",
       "<style scoped>\n",
       "    .dataframe tbody tr th:only-of-type {\n",
       "        vertical-align: middle;\n",
       "    }\n",
       "\n",
       "    .dataframe tbody tr th {\n",
       "        vertical-align: top;\n",
       "    }\n",
       "\n",
       "    .dataframe thead th {\n",
       "        text-align: right;\n",
       "    }\n",
       "</style>\n",
       "<table border=\"1\" class=\"dataframe\">\n",
       "  <thead>\n",
       "    <tr style=\"text-align: right;\">\n",
       "      <th></th>\n",
       "      <th>Name</th>\n",
       "      <th>Roll No.</th>\n",
       "      <th>Sem-5</th>\n",
       "      <th>Sem-4</th>\n",
       "      <th>Sem-3</th>\n",
       "      <th>Sem-2</th>\n",
       "      <th>Sem-1</th>\n",
       "      <th>Aggregate</th>\n",
       "    </tr>\n",
       "  </thead>\n",
       "  <tbody>\n",
       "    <tr>\n",
       "      <th>84</th>\n",
       "      <td>AMAN TYAGI</td>\n",
       "      <td>2K18/EP/010</td>\n",
       "      <td>9.44</td>\n",
       "      <td>9.64</td>\n",
       "      <td>10.00</td>\n",
       "      <td>9.0</td>\n",
       "      <td>9.3</td>\n",
       "      <td>9.490196</td>\n",
       "    </tr>\n",
       "    <tr>\n",
       "      <th>63</th>\n",
       "      <td>SHIKHAR DASH</td>\n",
       "      <td>2K18/EP/080</td>\n",
       "      <td>9.32</td>\n",
       "      <td>9.45</td>\n",
       "      <td>9.55</td>\n",
       "      <td>9.5</td>\n",
       "      <td>9.2</td>\n",
       "      <td>9.406038</td>\n",
       "    </tr>\n",
       "    <tr>\n",
       "      <th>20</th>\n",
       "      <td>PRIYANSH BHATNAGAR</td>\n",
       "      <td>2K18/EP/058</td>\n",
       "      <td>9.55</td>\n",
       "      <td>9.45</td>\n",
       "      <td>9.82</td>\n",
       "      <td>8.6</td>\n",
       "      <td>9.2</td>\n",
       "      <td>9.340000</td>\n",
       "    </tr>\n",
       "    <tr>\n",
       "      <th>17</th>\n",
       "      <td>TARUN ARORA</td>\n",
       "      <td>2K18/EP/085</td>\n",
       "      <td>9.27</td>\n",
       "      <td>9.27</td>\n",
       "      <td>9.73</td>\n",
       "      <td>9.0</td>\n",
       "      <td>8.8</td>\n",
       "      <td>9.225849</td>\n",
       "    </tr>\n",
       "    <tr>\n",
       "      <th>18</th>\n",
       "      <td>SHAURYA GUPTA</td>\n",
       "      <td>2K18/EP/078</td>\n",
       "      <td>9.55</td>\n",
       "      <td>9.82</td>\n",
       "      <td>9.64</td>\n",
       "      <td>8.1</td>\n",
       "      <td>8.8</td>\n",
       "      <td>9.209623</td>\n",
       "    </tr>\n",
       "    <tr>\n",
       "      <th>45</th>\n",
       "      <td>SAI SPANDANA THALLAM</td>\n",
       "      <td>2K18/EP/071</td>\n",
       "      <td>9.00</td>\n",
       "      <td>9.82</td>\n",
       "      <td>9.64</td>\n",
       "      <td>8.0</td>\n",
       "      <td>8.7</td>\n",
       "      <td>9.057736</td>\n",
       "    </tr>\n",
       "    <tr>\n",
       "      <th>65</th>\n",
       "      <td>VARUN MATHUR</td>\n",
       "      <td>2K18/EP/086</td>\n",
       "      <td>9.18</td>\n",
       "      <td>9.64</td>\n",
       "      <td>9.18</td>\n",
       "      <td>8.6</td>\n",
       "      <td>8.5</td>\n",
       "      <td>9.037736</td>\n",
       "    </tr>\n",
       "    <tr>\n",
       "      <th>71</th>\n",
       "      <td>AKHIL GUPTA</td>\n",
       "      <td>2K18/EP/006</td>\n",
       "      <td>9.64</td>\n",
       "      <td>9.18</td>\n",
       "      <td>9.09</td>\n",
       "      <td>9.4</td>\n",
       "      <td>7.5</td>\n",
       "      <td>8.981321</td>\n",
       "    </tr>\n",
       "    <tr>\n",
       "      <th>85</th>\n",
       "      <td>SHOBHIT RANJAN</td>\n",
       "      <td>2K18/EP/081</td>\n",
       "      <td>9.22</td>\n",
       "      <td>9.45</td>\n",
       "      <td>9.18</td>\n",
       "      <td>9.0</td>\n",
       "      <td>7.4</td>\n",
       "      <td>8.860980</td>\n",
       "    </tr>\n",
       "    <tr>\n",
       "      <th>26</th>\n",
       "      <td>YASH MUDGAL</td>\n",
       "      <td>2K18/EP/093</td>\n",
       "      <td>9.18</td>\n",
       "      <td>9.27</td>\n",
       "      <td>9.27</td>\n",
       "      <td>7.5</td>\n",
       "      <td>8.7</td>\n",
       "      <td>8.809811</td>\n",
       "    </tr>\n",
       "  </tbody>\n",
       "</table>\n",
       "</div>"
      ],
      "text/plain": [
       "                    Name     Roll No.  Sem-5  Sem-4  Sem-3  Sem-2  Sem-1  \\\n",
       "84            AMAN TYAGI  2K18/EP/010   9.44   9.64  10.00    9.0    9.3   \n",
       "63          SHIKHAR DASH  2K18/EP/080   9.32   9.45   9.55    9.5    9.2   \n",
       "20    PRIYANSH BHATNAGAR  2K18/EP/058   9.55   9.45   9.82    8.6    9.2   \n",
       "17           TARUN ARORA  2K18/EP/085   9.27   9.27   9.73    9.0    8.8   \n",
       "18         SHAURYA GUPTA  2K18/EP/078   9.55   9.82   9.64    8.1    8.8   \n",
       "45  SAI SPANDANA THALLAM  2K18/EP/071   9.00   9.82   9.64    8.0    8.7   \n",
       "65          VARUN MATHUR  2K18/EP/086   9.18   9.64   9.18    8.6    8.5   \n",
       "71           AKHIL GUPTA  2K18/EP/006   9.64   9.18   9.09    9.4    7.5   \n",
       "85        SHOBHIT RANJAN  2K18/EP/081   9.22   9.45   9.18    9.0    7.4   \n",
       "26           YASH MUDGAL  2K18/EP/093   9.18   9.27   9.27    7.5    8.7   \n",
       "\n",
       "    Aggregate  \n",
       "84   9.490196  \n",
       "63   9.406038  \n",
       "20   9.340000  \n",
       "17   9.225849  \n",
       "18   9.209623  \n",
       "45   9.057736  \n",
       "65   9.037736  \n",
       "71   8.981321  \n",
       "85   8.860980  \n",
       "26   8.809811  "
      ]
     },
     "execution_count": 212,
     "metadata": {},
     "output_type": "execute_result"
    }
   ],
   "source": [
    "answer1.head(n=10)"
   ]
  },
  {
   "cell_type": "markdown",
   "metadata": {},
   "source": [
    "# Take Aways  :\n",
    "## the function is't modulated also optimization needs to be done since it is directly just reaading all the data at once which isn't good. What can we Do : \n",
    "1. We know we are only taking data from Eningneering Physics so we can find the page where EP is written first as it is  provided at the start of each page and start extracting data from there.\n",
    "2. We can make a common function to go throught the data as it will reduce the strain of writing same code again and again \n",
    "3. The alogrithm has time complexity of O(n^2) which is definetly not feasible there is need to be work donw on that i.e. we can iterate at the page only when we find the EP page and etc."
   ]
  },
  {
   "cell_type": "code",
   "execution_count": 214,
   "metadata": {},
   "outputs": [
    {
     "data": {
      "text/plain": [
       "<AxesSubplot:xlabel='cgpa scale'>"
      ]
     },
     "execution_count": 214,
     "metadata": {},
     "output_type": "execute_result"
    },
    {
     "data": {
      "image/png": "[encoded data removed]",
      "text/plain": [
       "<Figure size 432x288 with 1 Axes>"
      ]
     },
     "metadata": {
      "needs_background": "light"
     },
     "output_type": "display_data"
    },
    {
     "data": {
      "image/png": "[encoded data removed]",
      "text/plain": [
       "<Figure size 432x288 with 1 Axes>"
      ]
     },
     "metadata": {
      "needs_background": "light"
     },
     "output_type": "display_data"
    }
   ],
   "source": [
    "import numpy as np \n",
    "x = np.linspace(0,10,88)\n",
    "x = x.reshape((88,1))\n",
    "#print(answer)\n",
    "z = np.array(x)\n",
    "z = pd.DataFrame(data = z.flatten())\n",
    "answer[\"cgpa scale\"] = x # adding a new column in the now a temporary variable answer since rank was printed for answer1\n",
    "answer.plot(x =\"cgpa scale\", y='Aggregate', kind = 'scatter') # plots w.r.t one of field in DataFrame but it doesn't make sense\n",
    "# so no need for this plot \n",
    "# ** scatter requires an x and y column can't be made on indices\n",
    "answer.plot(x =\"cgpa scale\", y='Aggregate', kind = 'line') # just joining lines above !!"
   ]
  },
  {
   "cell_type": "code",
   "execution_count": 220,
   "metadata": {},
   "outputs": [
    {
     "name": "stdout",
     "output_type": "stream",
     "text": [
      "                    Name     Roll No.  Sem-5  Sem-4  Sem-3  Sem-2  Sem-1  \\\n",
      "Rank                                                                       \n",
      "1             AMAN TYAGI  2K18/EP/010   9.44   9.64  10.00   9.00    9.3   \n",
      "2           SHIKHAR DASH  2K18/EP/080   9.32   9.45   9.55   9.50    9.2   \n",
      "3     PRIYANSH BHATNAGAR  2K18/EP/058   9.55   9.45   9.82   8.60    9.2   \n",
      "4            TARUN ARORA  2K18/EP/085   9.27   9.27   9.73   9.00    8.8   \n",
      "5          SHAURYA GUPTA  2K18/EP/078   9.55   9.82   9.64   8.10    8.8   \n",
      "...                  ...          ...    ...    ...    ...    ...    ...   \n",
      "84            AMAR KUMAR  2K18/EP/011   8.68   5.82   2.91   1.20    4.1   \n",
      "85          DIVYAM NIGAM  2K18/EP/024   5.82   5.73   3.18   1.90    4.2   \n",
      "86        ASHWAJIT SINGH  2K18/EP/018   8.73   5.57   3.11   0.70    1.4   \n",
      "87              AKSHANSH  2K18/EP/007   8.36   5.64   2.82   1.63    1.1   \n",
      "88             AMIT SETH  2K18/EP/012   9.07   2.73   0.82   1.60    3.8   \n",
      "\n",
      "      Aggregate  \n",
      "Rank             \n",
      "1      9.490196  \n",
      "2      9.406038  \n",
      "3      9.340000  \n",
      "4      9.225849  \n",
      "5      9.209623  \n",
      "...         ...  \n",
      "84     4.613396  \n",
      "85     4.208113  \n",
      "86     4.009623  \n",
      "87     4.006038  \n",
      "88     3.638113  \n",
      "\n",
      "[88 rows x 8 columns]\n"
     ]
    },
    {
     "data": {
      "image/png": "[encoded data removed]",
      "text/plain": [
       "<Figure size 432x288 with 1 Axes>"
      ]
     },
     "metadata": {
      "needs_background": "light"
     },
     "output_type": "display_data"
    }
   ],
   "source": [
    "#print(answer1)\n",
    "# data.reset_index(inplace=True) another way to reset index starting from 0 \n",
    "answer2 = answer1.set_index([pd.Index(range(88))]) # now we created a new dataframe which is sorted and indexed coorectly so plot will given the variation which is the expected one -_-\n",
    "answer2.plot(y = 'Aggregate' , use_index = True) # plot without changing order of index correctly !!\n",
    "# answer2.plot(y='Aggregate' , use_index = True , kind = 'scatter') # ** scatter doesn't work on indices \n",
    "answer2.keys()\n",
    "\n",
    "# creating a csv file for the same : \n",
    "# import csv \n",
    "# with open('ranked data.csv','w') as file :\n",
    "#     writer  = csv.DictWriter(file,fieldnames = answer2.keys())\n",
    "#     writer.writeheader()\n",
    "#     writer.writerows(answer)\n",
    "\n",
    "#OR\n",
    "# answer2.insert(0,\"Rank\",[i for i in range(1,89)],True)\n",
    "# answer2.set_index('Rank', inplace=True)\n",
    "# print(answer2)\n",
    "# answer2.to_csv('ranked data.csv')"
   ]
  },
  {
   "cell_type": "code",
   "execution_count": 221,
   "metadata": {
    "scrolled": true
   },
   "outputs": [
    {
     "data": {
      "image/png": "[encoded data removed]",
      "text/plain": [
       "<Figure size 432x288 with 1 Axes>"
      ]
     },
     "metadata": {
      "needs_background": "light"
     },
     "output_type": "display_data"
    },
    {
     "name": "stdout",
     "output_type": "stream",
     "text": [
      "[6.428409090909091, 6.100568181818181, 6.673295454545454, 7.522386363636361, 8.777045454545457]\n"
     ]
    }
   ],
   "source": [
    "# plotting the mean variation in gpa of the batch : \n",
    "import matplotlib.pyplot as plt\n",
    "answer['Sem-1'].mean() # caluclates mean of column \n",
    "aver = [answer['Sem-1'].mean(), answer['Sem-2'].mean(), answer['Sem-3'].mean(), answer[\"Sem-4\"].mean(), answer['Sem-5'].mean()]\n",
    "plt.plot([1,2,3,4,5],aver,'b-',label = \"Average gpa\") # plot showing how cgpa varied with each semester number\n",
    "plt.show()  \n",
    "print(aver)"
   ]
  },
  {
   "cell_type": "code",
   "execution_count": 222,
   "metadata": {},
   "outputs": [],
   "source": [
    "def ranker():\n",
    "    # performance curve for student depending on their roll number or rank : \n",
    "    x = input(\"Enter Name or Roll number(2K18/XX/0XX) : \")\n",
    "    x = x.upper()\n",
    "    answer2['Rank'] = range(1,89)\n",
    "    answer2.set_index('Rank',inplace=True) # method to change index according to some other column\n",
    "    data = None\n",
    "    if x[0] == '2':\n",
    "        data = answer2[answer2['Roll No.'] == x]\n",
    "    else:\n",
    "        data = answer2[answer2['Name'] == x]\n",
    "    #rank = data.index.item() extracting index of this row to get it's rank  if we didn't use rank as index in answer2\n",
    "    print(data)\n",
    "    # plotting the data : \n",
    "    points = [data['Sem-1'].mean(),data['Sem-2'].mean(),data['Sem-3'].mean(),data['Sem-4'].mean(),data['Sem-5']]\n",
    "    data.reset_index(inplace = True)\n",
    "    plt.plot([1,2,3,4,5],points)\n",
    "    #print((points))\n",
    "    plt.show()"
   ]
  },
  {
   "cell_type": "code",
   "execution_count": 227,
   "metadata": {},
   "outputs": [
    {
     "name": "stdout",
     "output_type": "stream",
     "text": [
      "Enter Name or Roll number(2K18/XX/0XX) : AMAN TYAGI\n",
      "            Name     Roll No.  Sem-5  Sem-4  Sem-3  Sem-2  Sem-1  Aggregate\n",
      "Rank                                                                       \n",
      "1     AMAN TYAGI  2K18/EP/010   9.44   9.64   10.0    9.0    9.3   9.490196\n"
     ]
    },
    {
     "name": "stderr",
     "output_type": "stream",
     "text": [
      "VisibleDeprecationWarning: Creating an ndarray from ragged nested sequences (which is a list-or-tuple of lists-or-tuples-or ndarrays with different lengths or shapes) is deprecated. If you meant to do this, you must specify 'dtype=object' when creating the ndarray. [_asarray.py:171]\n"
     ]
    },
    {
     "data": {
      "image/png": "[encoded data removed]",
      "text/plain": [
       "<Figure size 432x288 with 1 Axes>"
      ]
     },
     "metadata": {
      "needs_background": "light"
     },
     "output_type": "display_data"
    }
   ],
   "source": [
    "ranker()"
   ]
  },
  {
   "cell_type": "code",
   "execution_count": null,
   "metadata": {},
   "outputs": [],
   "source": []
  }
 ],
 "metadata": {
  "kernelspec": {
   "display_name": "Python 3",
   "language": "python",
   "name": "python3"
  },
  "language_info": {
   "codemirror_mode": {
    "name": "ipython",
    "version": 3
   },
   "file_extension": ".py",
   "mimetype": "text/x-python",
   "name": "python",
   "nbconvert_exporter": "python",
   "pygments_lexer": "ipython3",
   "version": "3.8.3"
  }
 },
 "nbformat": 4,
 "nbformat_minor": 2
}
