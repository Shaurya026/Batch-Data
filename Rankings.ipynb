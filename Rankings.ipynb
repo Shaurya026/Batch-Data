{
 "cells": [
  {
   "cell_type": "code",
   "execution_count": 1,
   "metadata": {},
   "outputs": [],
   "source": [
    "import PyPDF3 as X\n",
    "import pandas as pd"
   ]
  },
  {
   "cell_type": "markdown",
   "metadata": {},
   "source": [
    "# Calculating for Sem - 3 for all EP students : \n",
    "Since Roll numbers start with 2K18/EP for batch which is designated in 3rd Sem so we start in descending order to calculate"
   ]
  },
  {
   "cell_type": "code",
   "execution_count": 2,
   "metadata": {},
   "outputs": [],
   "source": [
    "object = open('O19_BTECH_3_1014.pdf','rb')\n",
    "reader = X.PdfFileReader(object)\n",
    "pages = reader.numPages"
   ]
  },
  {
   "cell_type": "code",
   "execution_count": 3,
   "metadata": {},
   "outputs": [],
   "source": [
    "head = dict()\n",
    "for i in range(pages):\n",
    "    page1 = reader.getPage(i)\n",
    "    str = page1.extractText()\n",
    "    str1 = \" \" \n",
    "    word = \"\"\n",
    "    flag = False\n",
    "    for i in str:\n",
    "        tmp = i \n",
    "        if word == \"Papers Failed\" and flag == False :\n",
    "            str1 = \" \"\n",
    "            flag = True\n",
    "        if word == \"Digitally\":\n",
    "            break\n",
    "        if i == '\\n':\n",
    "            word = \"\"\n",
    "        if i == '\\n' and tmp == i:\n",
    "            if str1[-1] == '\\n':\n",
    "                continue\n",
    "            str1 += i\n",
    "            continue\n",
    "        str1 += i\n",
    "        word += str1[-1]\n",
    "    #print(str1)\n",
    "    str1 = list(str1.split('\\n'))\n",
    "    #print(str1)\n",
    "    ctr = 0\n",
    "    for i in str1:\n",
    "        if i.startswith(\"2K18/EP/\"):\n",
    "            head[str1[ctr-2]] = head.get(str1[ctr-2],list()) #append(str1[ctr-1]) for 1st SEM\n",
    "            head[str1[ctr-2]].append(i)          #head[\"Roll No.\"].append(i)\n",
    "            if str1[ctr-2] == \"ASHWAJIT SINGH\":\n",
    "                    head[str1[ctr-2]].append(str1[ctr+7])\n",
    "                    ctr += 1\n",
    "                    continue\n",
    "            head[str1[ctr-2]].append(str1[ctr+8])      #head[\"Sem-1\"].append(str1[ctr+8])\n",
    "        ctr += 1\n",
    "# for k,v in head.items():\n",
    "#     print(k,\":\",end=\"\")\n",
    "#     print(len(v))"
   ]
  },
  {
   "cell_type": "markdown",
   "metadata": {},
   "source": [
    "# Calculating for Sem - 2 : "
   ]
  },
  {
   "cell_type": "code",
   "execution_count": 4,
   "metadata": {},
   "outputs": [],
   "source": [
    "object = open('E19_BTECH_B_2_929.pdf','rb')\n",
    "reader = X.PdfFileReader(object)\n",
    "pages = reader.numPages"
   ]
  },
  {
   "cell_type": "code",
   "execution_count": 5,
   "metadata": {},
   "outputs": [],
   "source": [
    "for i in range(pages):\n",
    "    page1 = reader.getPage(i)\n",
    "    str = page1.extractText()\n",
    "    str1 = \" \" \n",
    "    word = \"\"\n",
    "    flag = False\n",
    "    for i in str:\n",
    "        tmp = i \n",
    "        if word == \"Papers Failed\" and flag == False :\n",
    "            str1 = \" \"\n",
    "            flag = True\n",
    "        if word == \"Digitally\":\n",
    "            break\n",
    "        if i == '\\n':\n",
    "            word = \"\"\n",
    "        if i == '\\n' and tmp == i:\n",
    "            if str1[-1] == '\\n':\n",
    "                continue\n",
    "            str1 += i\n",
    "            continue\n",
    "        str1 += i\n",
    "        word += str1[-1]\n",
    "    #print(str1)\n",
    "    str1 = list(str1.split('\\n'))\n",
    "    #print(str1)\n",
    "    ctr = 0\n",
    "    for i in str1:\n",
    "        if i.startswith(\"2K18/B8\") and (str1[ctr-2] in head.keys()) :\n",
    "            head[str1[ctr-2]].append(str1[ctr+8])      #head[\"Sem-1\"].append(str1[ctr+8])\n",
    "        ctr += 1"
   ]
  },
  {
   "cell_type": "code",
   "execution_count": 6,
   "metadata": {},
   "outputs": [],
   "source": [
    "object = open('E19_BTECH_A_2_929.pdf','rb')\n",
    "reader = X.PdfFileReader(object)\n",
    "pages = reader.numPages"
   ]
  },
  {
   "cell_type": "code",
   "execution_count": 7,
   "metadata": {},
   "outputs": [],
   "source": [
    "for i in range(pages):\n",
    "    page1 = reader.getPage(i)\n",
    "    str = page1.extractText()\n",
    "    str1 = \" \" \n",
    "    word = \"\"\n",
    "    flag = False\n",
    "    for i in str:\n",
    "        tmp = i \n",
    "        if word == \"Papers Failed\" and flag == False :\n",
    "            str1 = \" \"\n",
    "            flag = True\n",
    "        if word == \"Digitally\":\n",
    "            break\n",
    "        if i == '\\n':\n",
    "            word = \"\"\n",
    "        if i == '\\n' and tmp == i:\n",
    "            if str1[-1] == '\\n':\n",
    "                continue\n",
    "            str1 += i\n",
    "            continue\n",
    "        str1 += i\n",
    "        word += str1[-1]\n",
    "    #print(str1)\n",
    "    str1 = list(str1.split('\\n'))\n",
    "    #print(str1)\n",
    "    ctr = 0\n",
    "    for i in str1:\n",
    "        if i.startswith(\"2K18/A8/\") and (str1[ctr-2] in head.keys()) and (len(head[str1[ctr-2]]) != 3) :\n",
    "            head[str1[ctr-2]].append(str1[ctr+8])      #head[\"Sem-1\"].append(str1[ctr+8])\n",
    "        ctr += 1\n",
    "    ctr = 0\n",
    "    for i in str1:\n",
    "        if i.startswith(\"2K18/\") and (str1[ctr-2] in head.keys()) and (len(head[str1[ctr-2]]) == 2):\n",
    "            head[str1[ctr-2]].append(str1[ctr+8])      #head[\"Sem-1\"].append(str1[ctr+8])\n",
    "        ctr += 1"
   ]
  },
  {
   "cell_type": "code",
   "execution_count": 8,
   "metadata": {},
   "outputs": [],
   "source": [
    "object = open('E19_BTECH_B_2_929.pdf','rb')\n",
    "reader = X.PdfFileReader(object)\n",
    "pages = reader.numPages\n",
    "for i in range(pages):\n",
    "    page1 = reader.getPage(i)\n",
    "    str = page1.extractText()\n",
    "    str1 = \" \" \n",
    "    word = \"\"\n",
    "    flag = False\n",
    "    for i in str:\n",
    "        tmp = i \n",
    "        if word == \"Papers Failed\" and flag == False :\n",
    "            str1 = \" \"\n",
    "            flag = True\n",
    "        if word == \"Digitally\":\n",
    "            break\n",
    "        if i == '\\n':\n",
    "            word = \"\"\n",
    "        if i == '\\n' and tmp == i:\n",
    "            if str1[-1] == '\\n':\n",
    "                continue\n",
    "            str1 += i\n",
    "            continue\n",
    "        str1 += i\n",
    "        word += str1[-1]\n",
    "    #print(str1)\n",
    "    str1 = list(str1.split('\\n'))\n",
    "    #print(str1)\n",
    "    ctr = 0\n",
    "    for i in str1:\n",
    "        if i.startswith(\"2K18/\") and (str1[ctr-2] in head.keys()) and (len(head[str1[ctr-2]]) == 2):\n",
    "            head[str1[ctr-2]].append(str1[ctr+8])      #head[\"Sem-1\"].append(str1[ctr+8])\n",
    "        ctr += 1\n",
    "head[\"AKSHAT TIWARI\"].append(7.8)\n",
    "head[\"MANASVI SINGWAL\"].append(7.0)\n",
    "# for k,v in head.items() :\n",
    "#     print(k,\":\",end=\"\")\n",
    "#     print(len(v))"
   ]
  },
  {
   "cell_type": "markdown",
   "metadata": {},
   "source": [
    "# Calculating for Sem - 1 :"
   ]
  },
  {
   "cell_type": "code",
   "execution_count": 9,
   "metadata": {},
   "outputs": [],
   "source": [
    "object = open('O18_BTECH.pdf','rb')\n",
    "reader = X.PdfFileReader(object)\n",
    "pages = reader.numPages"
   ]
  },
  {
   "cell_type": "code",
   "execution_count": 10,
   "metadata": {},
   "outputs": [],
   "source": [
    "for i in range(pages):\n",
    "    page1 = reader.getPage(i)\n",
    "    str = page1.extractText()\n",
    "    str1 = \" \" \n",
    "    word = \"\"\n",
    "    flag = False\n",
    "    for i in str:\n",
    "        tmp = i \n",
    "        if word == \"Papers Failed\" and flag == False :\n",
    "            str1 = \" \"\n",
    "            flag = True\n",
    "        if word == \"Digitally\":\n",
    "            break\n",
    "        if i == '\\n':\n",
    "            word = \"\"\n",
    "        if i == '\\n' and tmp == i:\n",
    "            if str1[-1] == '\\n':\n",
    "                continue\n",
    "            str1 += i\n",
    "            continue\n",
    "        str1 += i\n",
    "        word += str1[-1]\n",
    "    str1 = list(str1.split('\\n'))\n",
    "    #print(str1)\n",
    "    ctr = 0\n",
    "    for i in str1:\n",
    "        if i.startswith(\"2018/A8\") and (str1[ctr-1] in head.keys()) and (len(head[str1[ctr-1]]) == 3 ) :\n",
    "            head[str1[ctr-1]].append(str1[ctr+8])      #head[\"Sem-1\"].append(str1[ctr+8])\n",
    "        ctr += 1\n",
    "    ctr = 0\n",
    "    for i in str1:\n",
    "        if i.startswith(\"2018/B8\") and (str1[ctr-1] in head.keys()) and (len(head[str1[ctr-1]]) == 3 ):\n",
    "            head[str1[ctr-1]].append(str1[ctr+8])      #head[\"Sem-1\"].append(str1[ctr+8])\n",
    "        ctr += 1\n",
    "    ctr = 0\n",
    "    for i in str1:\n",
    "        if i.startswith(\"2018/\") and (str1[ctr-1] in head.keys()) and (len(head[str1[ctr-1]]) == 3 ):\n",
    "            head[str1[ctr-1]].append(str1[ctr+8])      #head[\"Sem-1\"].append(str1[ctr+8])\n",
    "        ctr += 1\n",
    "#     for i in str1:\n",
    "#         if i.startswith(\"2018/A8\") and (str1[ctr-1] in head.keys()) :\n",
    "#             head[str1[ctr-1]].append(str1[ctr+8])      #head[\"Sem-1\"].append(str1[ctr+8])\n",
    "#         ctr += 1\n",
    "#         ctr = 0\n",
    "#     for i in str1:\n",
    "#         if i.startswith(\"2018/\") and (str1[ctr-1] in head.keys()) and (len(str1[ctr-1]) != 4 ) :\n",
    "#             head[str1[ctr-1]].append(str1[ctr+8])      #head[\"Sem-1\"].append(str1[ctr+8])\n",
    "#         ctr += 1"
   ]
  },
  {
   "cell_type": "code",
   "execution_count": 11,
   "metadata": {},
   "outputs": [],
   "source": [
    "#print(head)\n",
    "header = {\"Name\" : [] , \"Roll No.\" : []  ,\"Sem-3\" : [] , \"Sem-2\" : [] , \"Sem-1\" : [] , \"Aggregate\" : []}\n",
    "for k,v in head.items():\n",
    "    header[\"Name\"].append(k)\n",
    "    header[\"Roll No.\"].append(v[0])\n",
    "    if len(v) < 4 :\n",
    "        if len(v) == 3:\n",
    "            header[\"Sem-3\"].append(float(v[1]))\n",
    "            header[\"Sem-2\"].append(float(v[2]))\n",
    "            header[\"Sem-1\"].append(6.0)\n",
    "            continue\n",
    "    else :\n",
    "        header[\"Sem-3\"].append(float(v[1]))\n",
    "        header[\"Sem-2\"].append(float(v[2]))\n",
    "        if v[3] == \"MA101\":\n",
    "            header[\"Sem-1\"].append(6.0)\n",
    "            continue\n",
    "        header[\"Sem-1\"].append(float(v[3]))\n",
    "        "
   ]
  },
  {
   "cell_type": "code",
   "execution_count": 12,
   "metadata": {},
   "outputs": [],
   "source": [
    "# print(len(header[\"Name\"]))\n",
    "# print(len(header[\"Sem-2\"]))\n",
    "# print(len(header[\"Sem-1\"]))\n",
    "# print(len(header[\"Roll No.\"]))\n",
    "# print(len(header[\"Sem-3\"]))\n",
    "#print(header)\n",
    "x = 0\n",
    "for i in range(89) :\n",
    "    x = (header[\"Sem-1\"][i] * 20 + header[\"Sem-2\"][i] * 20 + header[\"Sem-3\"][i] * 22) / 62\n",
    "    header['Aggregate'].append(x) "
   ]
  },
  {
   "cell_type": "code",
   "execution_count": 13,
   "metadata": {},
   "outputs": [
    {
     "name": "stdout",
     "output_type": "stream",
     "text": [
      "                  Name     Roll No.  Sem-3  Sem-2  Sem-1  Aggregate\n",
      "36          AMAN TYAGI  2K18/EP/010  10.00   9.00    9.3   9.451613\n",
      "26        SHIKHAR DASH  2K18/EP/080   9.55   9.50    9.2   9.420968\n",
      "84  PRIYANSH BHATNAGAR  2K18/EP/058   9.82   8.60    9.2   9.226452\n",
      "7          TARUN ARORA  2K18/EP/085   9.73   9.00    8.8   9.194516\n",
      "39       SHAURYA GUPTA  2K18/EP/078   9.64   8.10    8.8   8.872258\n",
      "..                 ...          ...    ...    ...    ...        ...\n",
      "28          AMAR KUMAR  2K18/EP/011   2.91   1.20    4.1   2.742258\n",
      "27      ADITYA AMBARIK  2K18/EP/004   0.00   0.37    6.0   2.054839\n",
      "48           AMIT SETH  2K18/EP/012   0.82   1.60    3.8   2.032903\n",
      "19            AKSHANSH  2K18/EP/007   2.82   1.63    1.1   1.881290\n",
      "0       ASHWAJIT SINGH  2K18/EP/018   3.11   0.70    1.4   1.780968\n",
      "\n",
      "[89 rows x 6 columns]\n"
     ]
    }
   ],
   "source": [
    "answer = pd.DataFrame(header)\n",
    "#answer[\"Aggregate\"] = answer.apply( (answer['Sem-1'] * 20 + answer['Sem-2'] * 20 + answer['Sem-3'] * 22) / 62 , axis1) \n",
    "answer1 = answer.sort_values(by=['Aggregate'], ascending=False)\n",
    "print(answer1)"
   ]
  },
  {
   "cell_type": "code",
   "execution_count": 14,
   "metadata": {},
   "outputs": [
    {
     "data": {
      "text/html": [
       "<div>\n",
       "<style scoped>\n",
       "    .dataframe tbody tr th:only-of-type {\n",
       "        vertical-align: middle;\n",
       "    }\n",
       "\n",
       "    .dataframe tbody tr th {\n",
       "        vertical-align: top;\n",
       "    }\n",
       "\n",
       "    .dataframe thead th {\n",
       "        text-align: right;\n",
       "    }\n",
       "</style>\n",
       "<table border=\"1\" class=\"dataframe\">\n",
       "  <thead>\n",
       "    <tr style=\"text-align: right;\">\n",
       "      <th></th>\n",
       "      <th>Name</th>\n",
       "      <th>Roll No.</th>\n",
       "      <th>Sem-3</th>\n",
       "      <th>Sem-2</th>\n",
       "      <th>Sem-1</th>\n",
       "      <th>Aggregate</th>\n",
       "    </tr>\n",
       "  </thead>\n",
       "  <tbody>\n",
       "    <tr>\n",
       "      <td>36</td>\n",
       "      <td>AMAN TYAGI</td>\n",
       "      <td>2K18/EP/010</td>\n",
       "      <td>10.00</td>\n",
       "      <td>9.0</td>\n",
       "      <td>9.3</td>\n",
       "      <td>9.451613</td>\n",
       "    </tr>\n",
       "    <tr>\n",
       "      <td>26</td>\n",
       "      <td>SHIKHAR DASH</td>\n",
       "      <td>2K18/EP/080</td>\n",
       "      <td>9.55</td>\n",
       "      <td>9.5</td>\n",
       "      <td>9.2</td>\n",
       "      <td>9.420968</td>\n",
       "    </tr>\n",
       "    <tr>\n",
       "      <td>84</td>\n",
       "      <td>PRIYANSH BHATNAGAR</td>\n",
       "      <td>2K18/EP/058</td>\n",
       "      <td>9.82</td>\n",
       "      <td>8.6</td>\n",
       "      <td>9.2</td>\n",
       "      <td>9.226452</td>\n",
       "    </tr>\n",
       "    <tr>\n",
       "      <td>7</td>\n",
       "      <td>TARUN ARORA</td>\n",
       "      <td>2K18/EP/085</td>\n",
       "      <td>9.73</td>\n",
       "      <td>9.0</td>\n",
       "      <td>8.8</td>\n",
       "      <td>9.194516</td>\n",
       "    </tr>\n",
       "    <tr>\n",
       "      <td>39</td>\n",
       "      <td>SHAURYA GUPTA</td>\n",
       "      <td>2K18/EP/078</td>\n",
       "      <td>9.64</td>\n",
       "      <td>8.1</td>\n",
       "      <td>8.8</td>\n",
       "      <td>8.872258</td>\n",
       "    </tr>\n",
       "    <tr>\n",
       "      <td>56</td>\n",
       "      <td>SAI SPANDANA THALLAM</td>\n",
       "      <td>2K18/EP/071</td>\n",
       "      <td>9.64</td>\n",
       "      <td>8.0</td>\n",
       "      <td>8.7</td>\n",
       "      <td>8.807742</td>\n",
       "    </tr>\n",
       "    <tr>\n",
       "      <td>88</td>\n",
       "      <td>VARUN MATHUR</td>\n",
       "      <td>2K18/EP/086</td>\n",
       "      <td>9.18</td>\n",
       "      <td>8.6</td>\n",
       "      <td>8.5</td>\n",
       "      <td>8.773548</td>\n",
       "    </tr>\n",
       "    <tr>\n",
       "      <td>35</td>\n",
       "      <td>AKHIL GUPTA</td>\n",
       "      <td>2K18/EP/006</td>\n",
       "      <td>9.09</td>\n",
       "      <td>9.4</td>\n",
       "      <td>7.5</td>\n",
       "      <td>8.677097</td>\n",
       "    </tr>\n",
       "    <tr>\n",
       "      <td>2</td>\n",
       "      <td>KSHITIZ SHARMA</td>\n",
       "      <td>2K18/EP/041</td>\n",
       "      <td>8.73</td>\n",
       "      <td>8.7</td>\n",
       "      <td>8.2</td>\n",
       "      <td>8.549355</td>\n",
       "    </tr>\n",
       "    <tr>\n",
       "      <td>9</td>\n",
       "      <td>SHOBHIT RANJAN</td>\n",
       "      <td>2K18/EP/081</td>\n",
       "      <td>9.18</td>\n",
       "      <td>9.0</td>\n",
       "      <td>7.4</td>\n",
       "      <td>8.547742</td>\n",
       "    </tr>\n",
       "  </tbody>\n",
       "</table>\n",
       "</div>"
      ],
      "text/plain": [
       "                    Name     Roll No.  Sem-3  Sem-2  Sem-1  Aggregate\n",
       "36            AMAN TYAGI  2K18/EP/010  10.00    9.0    9.3   9.451613\n",
       "26          SHIKHAR DASH  2K18/EP/080   9.55    9.5    9.2   9.420968\n",
       "84    PRIYANSH BHATNAGAR  2K18/EP/058   9.82    8.6    9.2   9.226452\n",
       "7            TARUN ARORA  2K18/EP/085   9.73    9.0    8.8   9.194516\n",
       "39         SHAURYA GUPTA  2K18/EP/078   9.64    8.1    8.8   8.872258\n",
       "56  SAI SPANDANA THALLAM  2K18/EP/071   9.64    8.0    8.7   8.807742\n",
       "88          VARUN MATHUR  2K18/EP/086   9.18    8.6    8.5   8.773548\n",
       "35           AKHIL GUPTA  2K18/EP/006   9.09    9.4    7.5   8.677097\n",
       "2         KSHITIZ SHARMA  2K18/EP/041   8.73    8.7    8.2   8.549355\n",
       "9         SHOBHIT RANJAN  2K18/EP/081   9.18    9.0    7.4   8.547742"
      ]
     },
     "execution_count": 14,
     "metadata": {},
     "output_type": "execute_result"
    }
   ],
   "source": [
    "answer1.head(n=10)"
   ]
  },
  {
   "cell_type": "markdown",
   "metadata": {},
   "source": [
    "# Take Aways  :\n",
    "## the function is't modulated also optimization needs to be done since it is directly just reaading all the data at once which isn't good. What can we Do : \n",
    "1. We know we are only taking data from Eningneering Physics so we can find the page where EP is written first as it is  provided at the start of each page and start extracting data from there.\n",
    "2. We can make a common function to go throught the data as it will reduce the strain of writing same code again and again \n",
    "3. The alogrithm has time complexity of O(n^2) which is definetly not feasible there is need to be work donw on that i.e. we can iterate at the page only when we find the EP page and etc."
   ]
  },
  {
   "cell_type": "code",
   "execution_count": 15,
   "metadata": {},
   "outputs": [
    {
     "data": {
      "text/plain": [
       "<matplotlib.axes._subplots.AxesSubplot at 0x29dc5af8948>"
      ]
     },
     "execution_count": 15,
     "metadata": {},
     "output_type": "execute_result"
    }
   ],
   "source": [
    "import numpy as np \n",
    "x = np.linspace(0,10,89)\n",
    "x = x.reshape((89,1))\n",
    "#print(answer)\n",
    "z = np.array(x)\n",
    "z = pd.DataFrame(data = z.flatten())\n",
    "answer[\"cgpa scale\"] = x # adding a new column in the now a temporary variable answer since rank was printed for answer1\n",
    "answer.plot(x =\"cgpa scale\", y='Aggregate', kind = 'scatter') # plots w.r.t one of field in DataFrame but it doesn't make sense\n",
    "# so no need for this plot \n",
    "# ** scatter requires an x and y column can't be made on indices\n",
    "answer.plot(x =\"cgpa scale\", y='Aggregate', kind = 'line') # just joining lines above !!"
   ]
  },
  {
   "cell_type": "code",
   "execution_count": 16,
   "metadata": {},
   "outputs": [
    {
     "name": "stdout",
     "output_type": "stream",
     "text": [
      "                  Name     Roll No.  Sem-3  Sem-2  Sem-1  Aggregate\n",
      "36          AMAN TYAGI  2K18/EP/010  10.00   9.00    9.3   9.451613\n",
      "26        SHIKHAR DASH  2K18/EP/080   9.55   9.50    9.2   9.420968\n",
      "84  PRIYANSH BHATNAGAR  2K18/EP/058   9.82   8.60    9.2   9.226452\n",
      "7          TARUN ARORA  2K18/EP/085   9.73   9.00    8.8   9.194516\n",
      "39       SHAURYA GUPTA  2K18/EP/078   9.64   8.10    8.8   8.872258\n",
      "..                 ...          ...    ...    ...    ...        ...\n",
      "28          AMAR KUMAR  2K18/EP/011   2.91   1.20    4.1   2.742258\n",
      "27      ADITYA AMBARIK  2K18/EP/004   0.00   0.37    6.0   2.054839\n",
      "48           AMIT SETH  2K18/EP/012   0.82   1.60    3.8   2.032903\n",
      "19            AKSHANSH  2K18/EP/007   2.82   1.63    1.1   1.881290\n",
      "0       ASHWAJIT SINGH  2K18/EP/018   3.11   0.70    1.4   1.780968\n",
      "\n",
      "[89 rows x 6 columns]\n"
     ]
    },
    {
     "data": {
      "text/plain": [
       "<matplotlib.axes._subplots.AxesSubplot at 0x29dc402ce48>"
      ]
     },
     "execution_count": 16,
     "metadata": {},
     "output_type": "execute_result"
    },
    {
     "data": {
      "image/png": "[encoded data removed]",
      "text/plain": [
       "<Figure size 432x288 with 1 Axes>"
      ]
     },
     "metadata": {
      "needs_background": "light"
     },
     "output_type": "display_data"
    }
   ],
   "source": [
    "print(answer1)\n",
    "# data.reset_index(inplace=True) another way to reset index starting from 0 \n",
    "answer2 = answer1.set_index([pd.Index(range(89))]) # now we created a new dataframe which is sorted and indexed coorectly so plot will given the variation which is the expected one -_-\n",
    "answer2.plot(y = 'Aggregate' , use_index = True) # plot without changing order of index correctly !!\n",
    "# answer2.plot(y='Aggregate' , use_index = True , kind = 'scatter') # ** scatter doesn't work on indices \n",
    "\n",
    "# creating a csv file for the same : \n",
    "# import csv \n",
    "# with open('ranked data.csv','w') as file :\n",
    "#     writer  = csv.DictWriter(file,fieldnames = answer2.keys())\n",
    "#     writer.writeheader()\n",
    "#     writer.writerows(answer)\n",
    "#answer2.to_csv('ranked data.csv')"
   ]
  },
  {
   "cell_type": "code",
   "execution_count": 17,
   "metadata": {
    "scrolled": true
   },
   "outputs": [
    {
     "data": {
      "image/png": "[encoded data removed]",
      "text/plain": [
       "<Figure size 432x288 with 1 Axes>"
      ]
     },
     "metadata": {
      "needs_background": "light"
     },
     "output_type": "display_data"
    },
    {
     "name": "stdout",
     "output_type": "stream",
     "text": [
      "[6.4235955056179765, 6.036179775280901, 6.598314606741573]\n"
     ]
    }
   ],
   "source": [
    "# plotting the mean variation in gpa of the batch : \n",
    "import matplotlib.pyplot as plt\n",
    "answer['Sem-1'].mean() # caluclates mean of column \n",
    "aver = [answer['Sem-1'].mean() , answer['Sem-2'].mean() , answer['Sem-3'].mean() ]\n",
    "plt.plot([1,2,3],aver,'bo',label = \"Average gpa\") # plot showing how cgpa varied with each semester number\n",
    "plt.show()  \n",
    "print(aver)"
   ]
  },
  {
   "cell_type": "code",
   "execution_count": 28,
   "metadata": {},
   "outputs": [],
   "source": [
    "def ranker():\n",
    "    # performance curve for student depending on their roll number or rank : \n",
    "    x = input(\"Enter Name or Roll number(2K18/XX/0XX) : \")\n",
    "    x = x.upper()\n",
    "    answer2['Rank'] = range(1,90)\n",
    "    answer2.set_index('Rank',inplace=True) # method to change index according to some other column\n",
    "    data = None\n",
    "    if x[0] == '2':\n",
    "        data = answer2[answer2['Roll No.'] == x]\n",
    "    else:\n",
    "        data = answer2[answer2['Name'] == x]\n",
    "    #rank = data.index.item() extracting index of this row to get it's rank  if we didn't use rank as index in answer2\n",
    "    print(data)\n",
    "    # plotting the data : \n",
    "    points = [data['Sem-1'].mean(),data['Sem-2'].mean(),data['Sem-3'].mean()]\n",
    "    data.reset_index(inplace = True)\n",
    "    plt.plot([1,2,3],points)\n",
    "    #print((points))\n",
    "    plt.show()"
   ]
  },
  {
   "cell_type": "code",
   "execution_count": 31,
   "metadata": {},
   "outputs": [
    {
     "name": "stdout",
     "output_type": "stream",
     "text": [
      "Enter Name or Roll number(2K18/XX/0XX) : 2K18/ep/078\n",
      "               Name     Roll No.  Sem-3  Sem-2  Sem-1  Aggregate\n",
      "Rank                                                            \n",
      "5     SHAURYA GUPTA  2K18/EP/078   9.64    8.1    8.8   8.872258\n"
     ]
    },
    {
     "data": {
      "image/png": "[encoded data removed]",
      "text/plain": [
       "<Figure size 432x288 with 1 Axes>"
      ]
     },
     "metadata": {
      "needs_background": "light"
     },
     "output_type": "display_data"
    }
   ],
   "source": [
    "ranker()"
   ]
  }
 ],
 "metadata": {
  "kernelspec": {
   "display_name": "Python 3",
   "language": "python",
   "name": "python3"
  },
  "language_info": {
   "codemirror_mode": {
    "name": "ipython",
    "version": 3
   },
   "file_extension": ".py",
   "mimetype": "text/x-python",
   "name": "python",
   "nbconvert_exporter": "python",
   "pygments_lexer": "ipython3",
   "version": "3.7.4"
  }
 },
 "nbformat": 4,
 "nbformat_minor": 2
}
